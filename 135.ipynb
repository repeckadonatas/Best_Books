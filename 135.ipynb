{
 "cells": [
  {
   "cell_type": "markdown",
   "id": "234148a6-d71e-46c5-8215-a509ebfd2c65",
   "metadata": {},
   "source": [
    "# Module 1: Introduction to Data Engineering"
   ]
  },
  {
   "cell_type": "markdown",
   "id": "c59368d4-e8d9-43f5-8334-62695e5c99b6",
   "metadata": {},
   "source": [
    "## Sprint 3: Intermediate SQL"
   ]
  },
  {
   "cell_type": "markdown",
   "id": "5e360ab4-5420-4ca6-81fe-cb4a1f2e43e2",
   "metadata": {},
   "source": [
    "## Part 5: Intermediate SQL V"
   ]
  },
  {
   "cell_type": "markdown",
   "id": "5a7135dc-2ac0-4574-846b-476570ff3df7",
   "metadata": {},
   "source": [
    "## About this Part\n\nCongrats!  \nYou completed almost all assignments and tasks of this Sprint.  \nYou did a great job.  \nIn this Part, you will need to apply the skills that you learned in the Sprint to complete your Sprint Project.\n\nThe Sprint Projects occasionally require you to use skills, tools, techniques, etc., that were not covered during the Sprint.  \nThis is by design - true mastery only comes, when you can identify what skills you need to solve a certain problem and acquire these skills if you don't have them.\n\nP.S. we don't expect this project to be perfect - you will continue to improve your skills, and there will be many projects for you to apply your newly gained skills in the future.  \nFor now, just use what you have learned and try your best!\n\n## Context\n\nYou are hired by a very large technology company working in e-commerce.  \nYour team is responsible for launching a new product - using a custom-built proprietary large language model (like GPT-4) to generate fictional books.  \nYour team is just starting out, so in the first sprint, you decided to make a list of the best books on Goodreads so that your model can be trained on them.  \nYour task is to load the data from Kaggle [GoodReads Best Books](https://www.kaggle.com/datasets/thedevastator/comprehensive-overview-of-52478-goodreads-best-b) dataset into a database and do some initial analysis of the data.  \nYou have a lot of freedom for this task.  \nFor the RDBMS, you can use any technology that you like (e.g. IBM Db2, PostgreSQL, etc.).  \nFor data analysis, you can use SQL, Pandas, a mix of the two, or even replicate the analysis with both.  \nFor how to do the work, you can choose to do it using Python scripts, Jupyter Notebooks, or choose the right tool for the job - the tricky part is to decide, which tool is right for which job.\n\n## Objectives\n\n- Practice setting up an RDBMS.\n- Practice ingesting data from CSV files.\n- Practice normalizing tables.\n- Practice analyzing data.\n\n## Requirements\n\n- Download the data from [GoodReads Best Books](https://www.kaggle.com/datasets/thedevastator/comprehensive-overview-of-52478-goodreads-best-b) and load it into an RDBMS.\n- Normalize the data to the 2NF.\n- Perform exploratory data analysis.\n- Provide suggestions about how your solution can be improved.\n\n## Evaluation Criteria\n\n- Adherence to the requirements. How well did you meet the requirements?\n- Code quality. Was your code well-structured? Did you use the correct levels of abstraction? Did you remove commented-out and unused code? Did you adhere to the PEP8?\n- Code performance. Did you use suitable algorithms and data structures to solve the problems?\n- Presentation quality. Coherence of the presentation of the project, how well everything is explained.\n- General understanding of the topic.\n\n## Correction\n\nDuring your project correction, you should present it as if talking to a technical team lead and a senior co-worker working in your team.  \nYou can assume that they will have strong data science and software engineering skills - they will understand technical jargon, they are expected to notice things that could have been done better, ask about the choices you've made (especially if you've made some questionable choices).  \nIn addition, be careful not to spend your time explaining trivial concepts or code snippets that are simple - your best bet is to focus your presentation on the more difficult portions of your code.\n\nDuring a correction, you may get asked questions that test your understanding of covered topics.\n\n- What is a higher-order function?\n- What is a monolith? What are alternatives to monoliths? What are the advantages and disadvantages of monoliths compared to the alternatives?\n- What are views in SQL?\n- What is a closure?\n- What is a decorator?\n"
   ]
  },
  {
   "cell_type": "markdown",
   "id": "ebb064df-5f22-41c2-bd08-ffa89f4dade3",
   "metadata": {},
   "source": [
    "## General Correction Guidelines\n\nFor an in-depth explanation about how corrections work at Turing College, please read [this doc](https://turingcollege.atlassian.net/wiki/spaces/DLG/pages/537395951/Peer+expert+reviews+corrections).\n"
   ]
  }
 ],
 "metadata": {
  "kernelspec": {
   "display_name": "Python 3",
   "language": "python",
   "name": "python3"
  },
  "language_info": {
   "codemirror_mode": {
    "name": "ipython",
    "version": 3
   },
   "file_extension": ".py",
   "mimetype": "text/x-python",
   "name": "python",
   "nbconvert_exporter": "python",
   "pygments_lexer": "ipython3",
   "version": "3.9.5"
  }
 },
 "nbformat": 4,
 "nbformat_minor": 5
}
